{
  "nbformat": 4,
  "nbformat_minor": 0,
  "metadata": {
    "colab": {
      "provenance": [],
      "authorship_tag": "ABX9TyOXPsyK4pw+MbXKN6aGiR1P",
      "include_colab_link": true
    },
    "kernelspec": {
      "name": "python3",
      "display_name": "Python 3"
    },
    "language_info": {
      "name": "python"
    }
  },
  "cells": [
    {
      "cell_type": "markdown",
      "metadata": {
        "id": "view-in-github",
        "colab_type": "text"
      },
      "source": [
        "<a href=\"https://colab.research.google.com/github/manjuiitm/mlprojects/blob/main/Untitled4.ipynb\" target=\"_parent\"><img src=\"https://colab.research.google.com/assets/colab-badge.svg\" alt=\"Open In Colab\"/></a>"
      ]
    },
    {
      "cell_type": "code",
      "execution_count": 2,
      "metadata": {
        "id": "sP9TyN8XInZJ"
      },
      "outputs": [],
      "source": [
        "import os\n",
        "import requests\n",
        "from bs4 import BeautifulSoup\n",
        "from datetime import datetime"
      ]
    },
    {
      "cell_type": "code",
      "source": [
        "current_datetime = datetime.now()\n",
        "folder_name = current_datetime.strftime('%H_%M_%d_%m_%Y')  # Format the current date and time for directory name\n",
        "\n",
        "# Define the main directory to save articles\n",
        "main_directory = \"Saved_Articles\"\n",
        "\n",
        "# Create the main directory if it doesn't exist\n",
        "if not os.path.exists(main_directory):\n",
        "    os.makedirs(main_directory, exist_ok=True)\n",
        "\n",
        "# Create a subdirectory with the current date and time format inside the main directory\n",
        "subdirectory_path = os.path.join(main_directory, folder_name)\n",
        "if not os.path.exists(subdirectory_path):\n",
        "    os.makedirs(subdirectory_path, exist_ok=True)\n"
      ],
      "metadata": {
        "id": "n6jnU2jLItJ5"
      },
      "execution_count": 3,
      "outputs": []
    },
    {
      "cell_type": "code",
      "source": [
        "# Define the URL to fetch data\n",
        "url = \"https://content.guardianapis.com/technology/artificialintelligenceai?&api-key=01dd6b39-66d5-4ed8-8335-9dd17fe41a3f&type=article&page=1\"\n",
        "\n",
        "response = requests.get(url)  # Fetch data from the URL\n",
        "x = response.json()  # Convert the response to JSON format\n",
        "\n",
        "web_urls = [item['webUrl'] for item in x['response']['results']]\n",
        "\n",
        "def save_content_to_file(url, folder, filename):\n",
        "    try:\n",
        "        response = requests.get(url)\n",
        "        if response.status_code == 200:\n",
        "            soup = BeautifulSoup(response.text, 'html.parser')\n",
        "\n",
        "            with open(os.path.join(folder, filename), 'w', encoding='utf-8') as file:\n",
        "                for header in soup.find_all(['h1']):\n",
        "                    file.write(\"Title: \" + header.text + '\\n' * 5)\n",
        "                for paragraph in soup.find_all('p'):\n",
        "                    file.write(paragraph.text + '\\n')\n",
        "        else:\n",
        "            print(\"Failed to retrieve the page:\", url)\n",
        "    except Exception as e:\n",
        "        print(\"An error occurred:\", e)\n",
        "\n",
        "for index, url in enumerate(web_urls):\n",
        "    filename = f'article_{index}.txt'  # Create a unique filename for each article\n",
        "    save_content_to_file(url, subdirectory_path, filename)  # Save the content to a file in the subdirectory"
      ],
      "metadata": {
        "id": "QYayNRvoTo6z"
      },
      "execution_count": 4,
      "outputs": []
    }
  ]
}
